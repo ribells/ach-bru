{
 "cells": [
  {
   "cell_type": "markdown",
   "metadata": {},
   "source": [
    "neccessary imports:\n"
   ]
  },
  {
   "cell_type": "code",
   "execution_count": 2,
   "metadata": {},
   "outputs": [],
   "source": [
    "#code obtained from https://github.com/samiamkhan/4641Project\n",
    "\n",
    "import numpy as np\n",
    "import pandas as pd\n",
    "from sklearn.tree import DecisionTreeClassifier\n",
    "from sklearn.metrics import classification_report, confusion_matrix\n",
    "from sklearn import metrics\n",
    "import matplotlib.pyplot as plt\n",
    "#import chess"
   ]
  },
  {
   "cell_type": "markdown",
   "metadata": {},
   "source": [
    "code for main:"
   ]
  },
  {
   "cell_type": "code",
   "execution_count": 17,
   "metadata": {},
   "outputs": [],
   "source": [
    "def dataLoader(x):\n",
    "    data = pd.read_csv(x)\n",
    "    return data"
   ]
  },
  {
   "cell_type": "markdown",
   "metadata": {},
   "source": [
    "main:"
   ]
  },
  {
   "cell_type": "code",
   "execution_count": 11,
   "metadata": {},
   "outputs": [
    {
     "name": "stdout",
     "output_type": "stream",
     "text": [
      "---- START OF ONE DICT ----\n",
      "end of one\n",
      "Accuracy: 0.5545722713864307\n",
      "---- START OF TWO DICT ----\n",
      "end of two\n",
      "Accuracy: 0.543755912961211\n",
      "---- START OF THREE DICT ----\n",
      "end of three\n",
      "Accuracy: 0.8115942028985508\n"
     ]
    }
   ],
   "source": [
    "f = \"games.csv\"\n",
    "data = dataLoader(\"games.csv\")\n",
    "header = data.head\n",
    "df = pd.DataFrame(data)\n",
    "\n",
    "#create a two-dimensional \n",
    "slctCol = df[['victory_status', 'winner', 'white_rating', 'black_rating', 'moves', 'opening_eco','opening_name', 'opening_ply']]\n",
    "slctCol = slctCol[(slctCol['victory_status'] == 'mate') | (slctCol['victory_status'] == 'resign')]\n",
    "\n",
    "#Convert to numpy NDArray (very useful)\n",
    "npData = data.to_numpy()\n",
    "\n",
    "'''\n",
    "trainingData = npData[0:(int)(npData.shape[0] * 0.8)]\n",
    "testingData = npData[len(trainingData): len(npData)] # Don't touch this until we're testing our performance\n",
    "'''\n",
    "\n",
    "#print(\"Training Shape: \", trainingData.shape)\n",
    "#print(\"Testing Shape: \", testingData.shape)\n",
    "\n",
    "'''\n",
    "These are some notes about Standard Chess Notation for referencing moves. The board is 8x8, with the bottom left corner\n",
    "being A1 and the top right being H8. The top left corner would be A8 and the bottom right corner would be H1. Using the\n",
    "Python chess library to interpret moves to prevent manual checking and parsing: https://pypi.org/project/python-chess/\n",
    "'''\n",
    "\n",
    "#print(data.iloc[3]) # show third rowrow\n",
    "\n",
    "firstOneDict = {}\n",
    "firstTwoDict = {}\n",
    "firstThreeDict = {}\n",
    "firstXDict = {}\n",
    "\n",
    "for sampleIndex in range(len(npData)):\n",
    "    moves = npData[sampleIndex][12] # 12 is the column index for the moves data\n",
    "    movesList = moves.split()       # creates separate strings for each move, within an array\n",
    "\n",
    "    firstOne = \" \".join(movesList[0:2])   # Moves 0 for both players in space-separated string\n",
    "    firstTwo = \" \".join(movesList[0:4])   # Moves 0, 1 for both players in space-separated string\n",
    "    firstThree = \" \".join(movesList[0:6]) # Moves 0, 1, 2 for both players in space-separated string\n",
    "    firstX = \" \".join(movesList[0:4])     # X Moves for each player in space-separated string (replace the 4)\n",
    "\n",
    "    # build a dictionary of unique moves\n",
    "    if firstOne in firstOneDict.keys():\n",
    "        firstOneDict[firstOne].append(sampleIndex)\n",
    "    else:\n",
    "        firstOneDict[firstOne] = [sampleIndex]\n",
    "    \n",
    "    if firstTwo in firstTwoDict.keys():\n",
    "        firstTwoDict[firstTwo].append(sampleIndex)\n",
    "    else:\n",
    "        firstTwoDict[firstTwo] = [sampleIndex]\n",
    "\n",
    "    if firstThree in firstThreeDict.keys():\n",
    "        firstThreeDict[firstThree].append(sampleIndex)\n",
    "    else:\n",
    "        firstThreeDict[firstX] = [sampleIndex]\n",
    "        \n",
    "    if firstX in firstXDict.keys():\n",
    "        firstXDict[firstX].append(sampleIndex)\n",
    "    else:\n",
    "        firstXDict[firstX] = [sampleIndex]\n",
    "\n",
    "#print(\"One keys: \", len(firstOneDict.keys()))\n",
    "#print(\"Two keys: \", len(firstTwoDict.keys()))\n",
    "#print(\"Three keys: \", len(firstThreeDict.keys()))"
   ]
  },
  {
   "cell_type": "code",
   "execution_count": 23,
   "metadata": {},
   "outputs": [
    {
     "name": "stdout",
     "output_type": "stream",
     "text": [
      "---- START OF ONE DICT ----\n",
      "Accuracy: 0.553834808259587\n",
      "---- END OF ONE DICT ----\n"
     ]
    }
   ],
   "source": [
    "#run the simple case of predicting winner based on ratings of black and white and two moves\n",
    "\n",
    "print(\"---- START OF ONE DICT ----\")\n",
    "\n",
    "yCforCompareOne = np.empty(0)\n",
    "yPforCompareOne = np.empty(0)\n",
    "\n",
    "for key in firstOneDict.keys():\n",
    "    \n",
    "    if len(firstOneDict[key]) >= 2:\n",
    "\n",
    "        #use the first 80% of games as the training data set\n",
    "        trainingIndices = firstOneDict[key][0:(int)(len(firstOneDict[key]) * 0.8)]\n",
    "        #use the last 20% of games as the testing data set\n",
    "        testingIndices  = firstOneDict[key][len(trainingIndices):len(firstOneDict[key])]\n",
    "\n",
    "        #trainingData = npData[0:(int)(npData.shape[0] * 0.8)]\n",
    "        #testingData = npData[len(trainingData): len(npData)] # Don't touch this until we're testing our performance\n",
    "\n",
    "        #print(\"Key: \", key)\n",
    "        indices = firstOneDict[key]\n",
    "\n",
    "        #initialize the memory spaces for arrays\n",
    "        xTraining = np.empty((len(trainingIndices), 2)) # 2 for p1Rating and p2Rating\n",
    "        yTraining = np.empty(len(trainingIndices), dtype=object) # Winner\n",
    "\n",
    "        count = 0\n",
    "        \n",
    "        #fill the two arrays\n",
    "        for index in trainingIndices:\n",
    "            curr = npData[index]\n",
    "\n",
    "            p1Rating = curr[9]\n",
    "            p2Rating = curr[11]\n",
    "            winner = curr[6]\n",
    "\n",
    "            xTraining[count][0] = p1Rating\n",
    "            xTraining[count][1] = p2Rating\n",
    "            yTraining[count] = winner\n",
    "\n",
    "            count += 1\n",
    "\n",
    "        classifier = DecisionTreeClassifier()\n",
    "        classifier.fit(xTraining, yTraining)\n",
    "\n",
    "        ##### TESTING #####\n",
    "\n",
    "        xTesting = np.empty((len(testingIndices), 2)) # additional 2 for p1Rating and p2Rating\n",
    "        yTestingCorrect = np.empty(len(testingIndices), dtype=object) # Winner\n",
    "\n",
    "        count = 0\n",
    "\n",
    "        for index in testingIndices:\n",
    "            curr = npData[index]\n",
    "\n",
    "            #print(\"Curr: \", curr)\n",
    "\n",
    "            p1Rating = curr[9]\n",
    "            p2Rating = curr[11]\n",
    "            winner = curr[6]\n",
    "\n",
    "            xTesting[count][0] = p1Rating\n",
    "            xTesting[count][1] = p2Rating\n",
    "            yTestingCorrect[count] = winner\n",
    "\n",
    "            count += 1\n",
    "\n",
    "        yTestingPredictions = classifier.predict(xTesting)\n",
    "        \n",
    "        yCforCompareOne = np.append(yCforCompareOne,yTestingCorrect)\n",
    "        yPforCompareOne = np.append(yPforCompareOne,yTestingPredictions)\n",
    "        \n",
    "        #print(confusion_matrix(yTestingCorrect, yTestingPredictions))\n",
    "        #print(classification_report(yTestingCorrect, yTestingPredictions))\n",
    "\n",
    "print(\"Accuracy:\", metrics.accuracy_score(yCforCompareOne, yPforCompareOne))\n",
    "\n",
    "print(\"---- END OF ONE DICT ----\")"
   ]
  },
  {
   "cell_type": "code",
   "execution_count": 19,
   "metadata": {},
   "outputs": [
    {
     "name": "stdout",
     "output_type": "stream",
     "text": [
      "---- START OF TWO DICT ----\n",
      "Accuracy: 0.5413907284768212\n",
      "---- END OF TWO DICT ----\n"
     ]
    }
   ],
   "source": [
    "#run the case of predicting winner based on ratings of black and white and four moves\n",
    "\n",
    "print(\"---- START OF TWO DICT ----\")\n",
    "\n",
    "yCforCompareTwo = np.empty(0)\n",
    "yPforCompareTwo = np.empty(0)\n",
    "\n",
    "for key in firstTwoDict.keys():\n",
    "    \n",
    "    #print(\"Key Length: \", len(firstTwoDict[key]))\n",
    "    \n",
    "    if len(firstTwoDict[key]) >= 2:\n",
    "\n",
    "        trainingIndices = firstTwoDict[key][0:(int)(len(firstTwoDict[key]) * 0.8)]\n",
    "        testingIndices = firstTwoDict[key][len(trainingIndices):len(firstTwoDict[key])]\n",
    "\n",
    "        #trainingData = npData[0:(int)(npData.shape[0] * 0.8)]\n",
    "        #testingData = npData[len(trainingData): len(npData)] # Don't touch this until we're testing our performance\n",
    "\n",
    "        #print(\"Key: \", key)\n",
    "        indices = firstTwoDict[key]\n",
    "\n",
    "        xTraining = np.empty((len(trainingIndices), 2)) # 2 for p1Rating and p2Rating\n",
    "        yTraining = np.empty(len(trainingIndices), dtype=object) # Winner\n",
    "\n",
    "        count = 0\n",
    "        for index in trainingIndices:\n",
    "            curr = npData[index]\n",
    "\n",
    "            p1Rating = curr[9]\n",
    "            p2Rating = curr[11]\n",
    "            winner = curr[6]\n",
    "\n",
    "            xTraining[count][0] = p1Rating\n",
    "            xTraining[count][1] = p2Rating\n",
    "            yTraining[count] = winner\n",
    "\n",
    "            count += 1\n",
    "\n",
    "        classifier = DecisionTreeClassifier()\n",
    "        classifier.fit(xTraining, yTraining)\n",
    "\n",
    "        ##### TESTING #####\n",
    "\n",
    "        xTesting = np.empty((len(testingIndices), 2)) # additional 2 for p1Rating and p2Rating\n",
    "        yTestingCorrect = np.empty(len(testingIndices), dtype=object) # Winner\n",
    "\n",
    "        count = 0\n",
    "\n",
    "        for index in testingIndices:\n",
    "            curr = npData[index]\n",
    "\n",
    "            #print(\"Curr: \", curr)\n",
    "\n",
    "            p1Rating = curr[9]\n",
    "            p2Rating = curr[11]\n",
    "            winner = curr[6]\n",
    "\n",
    "            xTesting[count][0] = p1Rating\n",
    "            xTesting[count][1] = p2Rating\n",
    "            yTestingCorrect[count] = winner\n",
    "\n",
    "            count += 1\n",
    "\n",
    "        yTestingPredictions = classifier.predict(xTesting)\n",
    "        \n",
    "        yCforCompareTwo = np.append(yCforCompareTwo, yTestingCorrect)\n",
    "        yPforCompareTwo = np.append(yPforCompareTwo, yTestingPredictions)\n",
    "\n",
    "        #print(confusion_matrix(yTestingCorrect, yTestingPredictions))\n",
    "        #print(classification_report(yTestingCorrect, yTestingPredictions))\n",
    "    else:\n",
    "        None\n",
    "        #print(' ')\n",
    "        #print(\"Skipping key due to insufficient data.\")\n",
    "\n",
    "print(\"Accuracy:\", metrics.accuracy_score(yCforCompareTwo, yPforCompareTwo))\n",
    "\n",
    "print(\"---- END OF TWO DICT ----\")"
   ]
  },
  {
   "cell_type": "code",
   "execution_count": 25,
   "metadata": {},
   "outputs": [
    {
     "name": "stdout",
     "output_type": "stream",
     "text": [
      "---- START OF THREE DICT ----\n",
      "Accuracy: 0.8405797101449275\n",
      "---- END OF THREE DICT ----\n"
     ]
    }
   ],
   "source": [
    "#run the case of predicting winner based on ratings of black and white and six moves\n",
    "\n",
    "print(\"---- START OF THREE DICT ----\")\n",
    "\n",
    "yCforCompareThree = np.empty(0)\n",
    "yPforCompareThree = np.empty(0)\n",
    "numkey = 0\n",
    "for key in firstThreeDict.keys():\n",
    "    \n",
    "    #print(\"Key Length: \", len(firstThreeDict[key]))\n",
    "    \n",
    "    if len(firstThreeDict[key]) >= 2:\n",
    "        numkey = numkey + 1\n",
    "\n",
    "        trainingIndices = firstThreeDict[key][0:(int)(len(firstThreeDict[key]) * 0.8)]\n",
    "        testingIndices = firstThreeDict[key][len(trainingIndices):len(firstThreeDict[key])]\n",
    "\n",
    "        #trainingData = npData[0:(int)(npData.shape[0] * 0.8)]\n",
    "        #testingData = npData[len(trainingData): len(npData)] # Don't touch this until we're testing our performance\n",
    "\n",
    "        #print(\"Key: \", key)\n",
    "        indices = firstThreeDict[key]\n",
    "\n",
    "        xTraining = np.empty((len(trainingIndices), 2)) # additional 2 for p1Rating and p2Rating\n",
    "        yTraining = np.empty(len(trainingIndices), dtype=object) # Winner\n",
    "\n",
    "        count = 0\n",
    "        for index in trainingIndices:\n",
    "            curr = npData[index]\n",
    "\n",
    "            p1Rating = curr[9]\n",
    "            p2Rating = curr[11]\n",
    "            winner = curr[6]\n",
    "\n",
    "            xTraining[count][0] = p1Rating\n",
    "            xTraining[count][1] = p2Rating\n",
    "            yTraining[count] = winner\n",
    "\n",
    "            count += 1\n",
    "\n",
    "        classifier = DecisionTreeClassifier()\n",
    "        classifier.fit(xTraining, yTraining)\n",
    "\n",
    "        ##### TESTING #####\n",
    "\n",
    "        xTesting = np.empty((len(testingIndices), 2)) # 2 for p1Rating and p2Rating\n",
    "        yTestingCorrect = np.empty(len(testingIndices), dtype=object) # Winner\n",
    "\n",
    "        count = 0\n",
    "\n",
    "        for index in testingIndices:\n",
    "            curr = npData[index]\n",
    "\n",
    "            #print(\"Curr: \", curr)\n",
    "\n",
    "            p1Rating = curr[9]\n",
    "            p2Rating = curr[11]\n",
    "            winner = curr[6]\n",
    "\n",
    "            xTesting[count][0] = p1Rating\n",
    "            xTesting[count][1] = p2Rating\n",
    "            yTestingCorrect[count] = winner\n",
    "\n",
    "            count += 1\n",
    "\n",
    "        yTestingPredictions = classifier.predict(xTesting)\n",
    "        \n",
    "        yCforCompareThree = np.append(yCforCompareThree, yTestingCorrect)\n",
    "        yPforCompareThree = np.append(yPforCompareThree, yTestingPredictions)\n",
    "\n",
    "        #print(confusion_matrix(yTestingCorrect, yTestingPredictions))\n",
    "        #print(classification_report(yTestingCorrect, yTestingPredictions))\n",
    "    else:\n",
    "        None\n",
    "        #print(\"Skipping key due to insufficient data.\")\n",
    "\n",
    "#print(\"numkey\",numkey)\n",
    "\n",
    "print(\"Accuracy:\", metrics.accuracy_score(yCforCompareThree, yPforCompareThree))\n",
    "\n",
    "print(\"---- END OF THREE DICT ----\")"
   ]
  },
  {
   "cell_type": "markdown",
   "metadata": {},
   "source": [
    "if key length is greater than 250, you can see which are the top 10 popular openings for the first 2 moves of each player (so firstTwo, meaning 0:4)\n",
    "if you look at first Seven, you can see the accuracy goes up to 90%."
   ]
  },
  {
   "cell_type": "code",
   "execution_count": 26,
   "metadata": {},
   "outputs": [],
   "source": [
    "def keyAndOpening(keyLength, numMoves, mode):\n",
    "    firstXDict = {}\n",
    "    for sampleIndex in range(len(npData)):\n",
    "        moves = npData[sampleIndex][12] # 12 is the index for the moves\n",
    "        movesList = moves.split()\n",
    "        firstX = \" \".join(movesList[0:numMoves*2]) # X Movesfor each player in space-separated string\n",
    "        if firstX in firstXDict.keys():\n",
    "            firstXDict[firstX].append(sampleIndex)\n",
    "        else:\n",
    "            firstXDict[firstX] = [sampleIndex]\n",
    "    yCforCompareX = np.empty(0)\n",
    "    yPforCompareX = np.empty(0)\n",
    "    numkey = 0\n",
    "    for key in firstXDict.keys():\n",
    "        if len(firstXDict[key]) >= keyLength:\n",
    "                numkey = numkey + 1\n",
    "                trainingIndices = firstXDict[key][0:(int)(len(firstXDict[key]) * 0.8)]\n",
    "                testingIndices = firstXDict[key][len(trainingIndices):len(firstXDict[key])]\n",
    "                indices = firstXDict[key]\n",
    "                xTraining = np.empty((len(trainingIndices), 2)) # 2 for p1Rating and p2Rating\n",
    "                yTraining = np.empty(len(trainingIndices), dtype=object) # Winner\n",
    "                count = 0\n",
    "                for index in trainingIndices:\n",
    "                    curr = npData[index]\n",
    "                    p1Rating = curr[9]\n",
    "                    p2Rating = curr[11]\n",
    "                    winner = curr[6]\n",
    "                    xTraining[count][0] = p1Rating\n",
    "                    xTraining[count][1] = p2Rating\n",
    "                    yTraining[count] = winner\n",
    "                    count += 1\n",
    "                classifier = DecisionTreeClassifier()\n",
    "                classifier.fit(xTraining, yTraining)\n",
    "                \n",
    "                ##### TESTING #####\n",
    "                \n",
    "                xTesting = np.empty((len(testingIndices), 2)) # 2 for p1Rating and p2Rating\n",
    "                yTestingCorrect = np.empty(len(testingIndices), dtype=object) # Winner\n",
    "                count = 0\n",
    "                for index in testingIndices:\n",
    "                    curr = npData[index]\n",
    "                    #print(\"Curr: \", curr)\n",
    "                    p1Rating = curr[9]\n",
    "                    p2Rating = curr[11]\n",
    "                    winner = curr[6]\n",
    "                    xTesting[count][0] = p1Rating\n",
    "                    xTesting[count][1] = p2Rating\n",
    "                    yTestingCorrect[count] = winner\n",
    "                    count += 1\n",
    "                yTestingPredictions = classifier.predict(xTesting)\n",
    "                yCforCompareX = np.append(yCforCompareX,yTestingCorrect)\n",
    "                yPforCompareX = np.append(yPforCompareX,yTestingPredictions)\n",
    "         \n",
    "        else:\n",
    "            None\n",
    "    score = 0\n",
    "    if mode == 0 or mode == None:\n",
    "        #print(\"accuracy\")\n",
    "        score = metrics.accuracy_score(yCforCompareX, yPforCompareX)\n",
    "    elif mode == 1:\n",
    "        #print(\"precision, micro\")\n",
    "        score = metrics.precision_score(yCforCompareX, yPforCompareX, average = \"micro\")\n",
    "    else:\n",
    "        #print(\"recall micro\")\n",
    "        score = metrics.recall_score(yCforCompareX, yPforCompareX, average = \"micro\")\n",
    "\n",
    "    return (numkey, score)\n"
   ]
  },
  {
   "cell_type": "code",
   "execution_count": 31,
   "metadata": {
    "scrolled": true
   },
   "outputs": [
    {
     "name": "stdout",
     "output_type": "stream",
     "text": [
      "numkey 1\n",
      "Accuracy 0.5561594202898551\n"
     ]
    }
   ],
   "source": [
    "ans = keyAndOpening(1000, 2, 0) # param 1 = keyLength is number of instance per move param 2 = number moves in opening\n",
    "print(\"numkey\", ans[0])\n",
    "print(\"Accuracy\", ans[1])"
   ]
  },
  {
   "cell_type": "code",
   "execution_count": 14,
   "metadata": {
    "scrolled": true
   },
   "outputs": [
    {
     "name": "stdout",
     "output_type": "stream",
     "text": [
      "Accuracy graph as the opening length increases:\n"
     ]
    },
    {
     "data": {
      "image/png": "[encoded data removed]",
      "text/plain": [
       "<Figure size 432x288 with 1 Axes>"
      ]
     },
     "metadata": {
      "needs_background": "light"
     },
     "output_type": "display_data"
    }
   ],
   "source": [
    "graphX = np.empty(0)\n",
    "graphY = np.empty(0)\n",
    "for i in range(1,11):\n",
    "    graphX = np.append(graphX,i)\n",
    "    tup = keyAndOpening(2,i,0)\n",
    "    numkey = tup[0]\n",
    "    Acc = tup[1]\n",
    "    graphY = np.append(graphY,Acc)\n",
    "plt.plot(graphX, graphY)\n",
    "plt.show\n",
    "print(\"Accuracy graph as the opening length increases:\")"
   ]
  },
  {
   "cell_type": "code",
   "execution_count": 15,
   "metadata": {},
   "outputs": [
    {
     "name": "stdout",
     "output_type": "stream",
     "text": [
      "Precision graph as the opening length increases:\n"
     ]
    },
    {
     "data": {
      "image/png": "[encoded data removed]",
      "text/plain": [
       "<Figure size 432x288 with 1 Axes>"
      ]
     },
     "metadata": {
      "needs_background": "light"
     },
     "output_type": "display_data"
    }
   ],
   "source": [
    "graphX = np.empty(0)\n",
    "graphY = np.empty(0)\n",
    "for i in range(1,11):\n",
    "    graphX = np.append(graphX,i)\n",
    "    tup = keyAndOpening(2,i,1)\n",
    "    numkey = tup[0]\n",
    "    Acc = tup[1]\n",
    "    graphY = np.append(graphY,Acc)\n",
    "plt.plot(graphX, graphY)\n",
    "plt.show\n",
    "print(\"Precision graph as the opening length increases:\")"
   ]
  },
  {
   "cell_type": "code",
   "execution_count": 16,
   "metadata": {},
   "outputs": [
    {
     "name": "stdout",
     "output_type": "stream",
     "text": [
      "Recall graph as the opening length increases:\n"
     ]
    },
    {
     "data": {
      "image/png": "[encoded data removed]",
      "text/plain": [
       "<Figure size 432x288 with 1 Axes>"
      ]
     },
     "metadata": {
      "needs_background": "light"
     },
     "output_type": "display_data"
    }
   ],
   "source": [
    "graphX = np.empty(0)\n",
    "graphY = np.empty(0)\n",
    "for i in range(1,11):\n",
    "    graphX = np.append(graphX,i)\n",
    "    tup = keyAndOpening(2,i,2)\n",
    "    numkey = tup[0]\n",
    "    Acc = tup[1]\n",
    "    graphY = np.append(graphY,Acc)\n",
    "plt.plot(graphX, graphY)\n",
    "plt.show\n",
    "print(\"Recall graph as the opening length increases:\")"
   ]
  },
  {
   "cell_type": "code",
   "execution_count": null,
   "metadata": {},
   "outputs": [],
   "source": []
  }
 ],
 "metadata": {
  "kernelspec": {
   "display_name": "Python 3",
   "language": "python",
   "name": "python3"
  },
  "language_info": {
   "codemirror_mode": {
    "name": "ipython",
    "version": 3
   },
   "file_extension": ".py",
   "mimetype": "text/x-python",
   "name": "python",
   "nbconvert_exporter": "python",
   "pygments_lexer": "ipython3",
   "version": "3.8.5"
  }
 },
 "nbformat": 4,
 "nbformat_minor": 2
}
