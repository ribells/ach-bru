{
 "cells": [
  {
   "cell_type": "code",
   "execution_count": 1,
   "metadata": {},
   "outputs": [],
   "source": [
    "#list the packages we need for our analysis\n",
    "\n",
    "import numpy as np\n",
    "import matplotlib.pyplot as plt\n",
    "import pandas as pd"
   ]
  },
  {
   "cell_type": "code",
   "execution_count": 88,
   "metadata": {},
   "outputs": [
    {
     "name": "stdout",
     "output_type": "stream",
     "text": [
      "['d4', 'd5', 'c4', 'c6', 'Nc3', 'dxc4', 'a4', 'Bf5', 'e3', 'e6', 'Bxc4', 'Nf6', 'Nf3', 'Bb4', 'O-O', 'Bxc3', 'bxc3', 'Ne4', 'Qb3', 'Nd6', 'Be2', 'O-O', 'Ba3', 'Re8', 'Ne5', 'Ne4', 'Qxb7', 'Qg5', 'Qxf7+']\n",
      "20058\n"
     ]
    }
   ],
   "source": [
    "#read in the data we need for our analysis\n",
    "\n",
    "data_df = pd.read_csv('chess-games.csv')\n",
    "\n",
    "moves = data_df[\"moves\"]\n",
    "winner = data_df[\"winner\"]\n",
    "\n",
    "print(moves[20000].split())\n",
    "print(len(moves))"
   ]
  },
  {
   "cell_type": "code",
   "execution_count": 56,
   "metadata": {},
   "outputs": [
    {
     "name": "stdout",
     "output_type": "stream",
     "text": [
      "Nf6\n"
     ]
    }
   ],
   "source": [
    "#Make 2-D array from the moves variable strings for each game\n",
    "\n",
    "row = [] #make a new numpy array for longitudes\n",
    "game_moves = [] #make a new numpy array for latitudes\n",
    "count = 0;\n",
    "\n",
    "for i in range(0, 20058):\n",
    "    row = moves[i].split()\n",
    "    game_moves.append(row)\n",
    "    row = []\n",
    "    \n",
    "print(game_moves[400][1])"
   ]
  },
  {
   "cell_type": "code",
   "execution_count": 50,
   "metadata": {},
   "outputs": [
    {
     "name": "stdout",
     "output_type": "stream",
     "text": [
      "         0\n",
      "d4    4522\n",
      "e4   12598\n",
      "e3     416\n",
      "c4     716\n",
      "Nf3    725\n",
      "a4      28\n",
      "Nh3     15\n",
      "g3     186\n",
      "h4      33\n",
      "f4     166\n",
      "b4      88\n",
      "Nc3     99\n",
      "b3     173\n",
      "h3      14\n",
      "d3     131\n",
      "f3      23\n",
      "g4      38\n",
      "a3      27\n",
      "c3      56\n",
      "Na3      4\n"
     ]
    }
   ],
   "source": [
    "#Plot a histogram of first moves across games\n",
    "from collections import Counter\n",
    "\n",
    "first_moves = []\n",
    "\n",
    "for i in range(0, 20058):\n",
    "    first_moves.append(game_moves[i][0])\n",
    "\n",
    "letter_counts = Counter(first_moves)\n",
    "df = pd.DataFrame.from_dict(letter_counts, orient='index')\n",
    "print(df)"
   ]
  },
  {
   "cell_type": "code",
   "execution_count": 51,
   "metadata": {},
   "outputs": [
    {
     "data": {
      "text/plain": [
       "<matplotlib.axes._subplots.AxesSubplot at 0x11be87c50>"
      ]
     },
     "execution_count": 51,
     "metadata": {},
     "output_type": "execute_result"
    },
    {
     "data": {
      "image/png": "[encoded data removed]",
      "text/plain": [
       "<Figure size 432x288 with 1 Axes>"
      ]
     },
     "metadata": {
      "needs_background": "light"
     },
     "output_type": "display_data"
    }
   ],
   "source": [
    "df.plot(kind='bar')"
   ]
  },
  {
   "cell_type": "code",
   "execution_count": 103,
   "metadata": {},
   "outputs": [
    {
     "name": "stdout",
     "output_type": "stream",
     "text": [
      "e4 12598 50.57\n",
      "e3 416 34.13\n",
      "c4 716 53.49\n",
      "Nf3 725 51.45\n",
      "a4 28 32.14\n",
      "Nh3 15 60.00\n",
      "g3 186 45.70\n",
      "h4 33 18.18\n",
      "f4 166 40.96\n",
      "b4 88 54.55\n",
      "Nc3 99 42.42\n",
      "b3 173 47.40\n",
      "h3 14 50.00\n",
      "d3 131 38.17\n",
      "f3 23 34.78\n",
      "g4 38 28.95\n",
      "a3 27 62.96\n",
      "c3 56 55.36\n",
      "Na3 4 25.00\n"
     ]
    }
   ],
   "source": [
    "#find winning percentage for each first move\n",
    "move = []\n",
    "move_count = []\n",
    "win_total = []\n",
    "\n",
    "move.append(game_moves[0][0])\n",
    "move_count.append(1)\n",
    "if(winner[0]=='white'):\n",
    "    win_total.append(1)\n",
    "else:\n",
    "    win_total.append(0)\n",
    "\n",
    "for i in range(1, 20058):\n",
    "    found = False\n",
    "    for j in range(0, len(move)):\n",
    "        if(game_moves[i][0] == move[j]):\n",
    "            found = True\n",
    "            move_count[j] = move_count[j] + 1\n",
    "            if(winner[i]=='white'):\n",
    "                win_total[j] = win_total[j] + 1\n",
    "    if(found == False):\n",
    "        move.append(game_moves[i][0])\n",
    "        move_count.append(1)\n",
    "        if(winner[i]=='white'):\n",
    "            win_total.append(1)\n",
    "        else:\n",
    "            win_total.append(0)\n",
    "\n",
    "for i in range(1, len(win_total)):   \n",
    "    print(move[i], move_count[i], format(win_total[i]*100/move_count[i], \"^-05.2f\"))"
   ]
  },
  {
   "cell_type": "code",
   "execution_count": 83,
   "metadata": {},
   "outputs": [
    {
     "name": "stdout",
     "output_type": "stream",
     "text": [
      "        0\n",
      "d5   3666\n",
      "Nc6   392\n",
      "e5   6988\n",
      "c5   2883\n",
      "e6   2083\n",
      "g6    387\n",
      "Nf6  1693\n",
      "f5    166\n",
      "d6    543\n",
      "c6    734\n",
      "h5     24\n",
      "h6     19\n",
      "a6     50\n",
      "b6    286\n",
      "b5     25\n",
      "f6     41\n",
      "Nh6    12\n",
      "g5     18\n",
      "a5     23\n",
      "Na6     6\n"
     ]
    }
   ],
   "source": [
    "#Plot a histogram of first moves across games\n",
    "\n",
    "second_moves = []\n",
    "\n",
    "for i in range(0, 20058):\n",
    "    if(i!=1946 and i!=1977 and i!=4115 and i!=4473 and i!=4828 and i!=5496 and i!=5875 and i!=6040 and i!=9229 and i!=11742 and i!=11963 and i!=12679 and i!=13557 and i!=13560 and i!=13701 and i!=14117 and i!=15007 and i!=18583 and i!=20057):\n",
    "        second_moves.append(game_moves[i][1])\n",
    "\n",
    "letter_counts = Counter(second_moves)\n",
    "df = pd.DataFrame.from_dict(letter_counts, orient='index')\n",
    "print(df)"
   ]
  },
  {
   "cell_type": "code",
   "execution_count": null,
   "metadata": {},
   "outputs": [],
   "source": []
  }
 ],
 "metadata": {
  "kernelspec": {
   "display_name": "Python 3",
   "language": "python",
   "name": "python3"
  },
  "language_info": {
   "codemirror_mode": {
    "name": "ipython",
    "version": 3
   },
   "file_extension": ".py",
   "mimetype": "text/x-python",
   "name": "python",
   "nbconvert_exporter": "python",
   "pygments_lexer": "ipython3",
   "version": "3.7.4"
  }
 },
 "nbformat": 4,
 "nbformat_minor": 4
}
